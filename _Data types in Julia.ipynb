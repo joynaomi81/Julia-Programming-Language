{
 "cells": [
  {
   "cell_type": "code",
   "execution_count": 22,
   "id": "ed6c05",
   "metadata": {
    "collapsed": false
   },
   "outputs": [
    {
     "name": "stdout",
     "output_type": "stream",
     "text": [
      "Hello,world\n"
     ]
    }
   ],
   "source": [
    "println(\"Hello,world\")"
   ]
  },
  {
   "cell_type": "code",
   "execution_count": 23,
   "id": "e0dae5",
   "metadata": {
    "collapsed": false
   },
   "outputs": [
    {
     "name": "stdout",
     "output_type": "stream",
     "text": [
      "Hello\n",
      "world\n"
     ]
    }
   ],
   "source": [
    "println(\"Hello\")\n",
    "println(\"world\")"
   ]
  },
  {
   "cell_type": "code",
   "execution_count": 24,
   "id": "ea823c",
   "metadata": {
    "collapsed": false
   },
   "outputs": [
    {
     "name": "stdout",
     "output_type": "stream",
     "text": [
      "Hello,World\n"
     ]
    }
   ],
   "source": [
    "println(\"Hello,World\")"
   ]
  },
  {
   "cell_type": "code",
   "execution_count": 25,
   "id": "0b653c",
   "metadata": {
    "collapsed": false
   },
   "outputs": [
    {
     "name": "stdout",
     "output_type": "stream",
     "text": [
      " My name is Joy\n"
     ]
    }
   ],
   "source": [
    "println(\" My name is Joy\")"
   ]
  },
  {
   "cell_type": "code",
   "execution_count": 27,
   "id": "a78de1",
   "metadata": {
    "collapsed": false
   },
   "outputs": [
    {
     "name": "stdout",
     "output_type": "stream",
     "text": [
      "4\n",
      "6\n",
      "7\n"
     ]
    }
   ],
   "source": [
    "####  character\n",
    "println(4)\n",
    "println(6)\n",
    "println(7)"
   ]
  },
  {
   "cell_type": "code",
   "execution_count": 28,
   "id": "cae95b",
   "metadata": {
    "collapsed": false
   },
   "outputs": [
    {
     "name": "stdout",
     "output_type": "stream",
     "text": [
      "String\n"
     ]
    }
   ],
   "source": [
    "println(typeof(\"a\"))"
   ]
  },
  {
   "cell_type": "code",
   "execution_count": 29,
   "id": "16b6dd",
   "metadata": {
    "collapsed": false
   },
   "outputs": [
    {
     "name": "stdout",
     "output_type": "stream",
     "text": [
      "Float64\n",
      "Int64\n"
     ]
    }
   ],
   "source": [
    "println(typeof(1.1))\n",
    "println(typeof(2))"
   ]
  },
  {
   "cell_type": "markdown",
   "id": "991c5c",
   "metadata": {
    "collapsed": false
   },
   "source": [
    "<span style='font-size:x-large'>**Variables**</span>\n"
   ]
  },
  {
   "cell_type": "code",
   "execution_count": 30,
   "id": "d2a741",
   "metadata": {
    "collapsed": false
   },
   "outputs": [
    {
     "name": "stdout",
     "output_type": "stream",
     "text": [
      "Bolu, Naomi, Gift\n"
     ]
    }
   ],
   "source": [
    "Name = \"Bolu, Naomi, Gift\"\n",
    "println(Name)"
   ]
  },
  {
   "cell_type": "code",
   "execution_count": 31,
   "id": "588ca1",
   "metadata": {
    "collapsed": false
   },
   "outputs": [
    {
     "name": "stdout",
     "output_type": "stream",
     "text": [
      "You have 500 knuts, John! That's worth 17.24137931034483 sickles, that is!\n"
     ]
    }
   ],
   "source": [
    "num_knuts = 500\n",
    "num_sickles = num_knuts/29\n",
    "\n",
    "println(\"You have $num_knuts knuts, John! That's worth $num_sickles sickles, that is!\")"
   ]
  },
  {
   "cell_type": "code",
   "execution_count": 33,
   "id": "f50307",
   "metadata": {
    "collapsed": false
   },
   "outputs": [
    {
     "name": "stdout",
     "output_type": "stream",
     "text": [
      "Hello, Joy\n"
     ]
    }
   ],
   "source": [
    "function greet(name::String)\n",
    "    return \"Hello, $name\"\n",
    "end\n",
    "\n",
    "println(greet(\"Joy\"))"
   ]
  },
  {
   "cell_type": "code",
   "execution_count": 0,
   "id": "751a64",
   "metadata": {
    "collapsed": false
   },
   "outputs": [
   ],
   "source": [
    "function greet(name)\n",
    "    return \"Hello, $name!\"\n",
    "end\n",
    "println(greet(\"Joy\"))  "
   ]
  },
  {
   "cell_type": "markdown",
   "id": "2c9145",
   "metadata": {
    "collapsed": false
   },
   "source": [
    "<span style='font-size:x-large'>**Conditional statements**</span>\n"
   ]
  },
  {
   "cell_type": "code",
   "execution_count": 38,
   "id": "cd3f4f",
   "metadata": {
    "collapsed": false
   },
   "outputs": [
    {
     "name": "stdout",
     "output_type": "stream",
     "text": [
      "Not at home\n"
     ]
    }
   ],
   "source": [
    "if true\n",
    "   println(\"Not at home\")\n",
    "else\n",
    "   println(\"At home\")\n",
    "end"
   ]
  },
  {
   "cell_type": "code",
   "execution_count": 37,
   "id": "019ead",
   "metadata": {
    "collapsed": false
   },
   "outputs": [
    {
     "name": "stdout",
     "output_type": "stream",
     "text": [
      "The number is odd\n"
     ]
    }
   ],
   "source": [
    "number = 9\n",
    "\n",
    "if number % 2 == 0\n",
    "   println(\"The number is even\")\n",
    "else\n",
    "   println(\"The number is odd\")\n",
    "end"
   ]
  },
  {
   "cell_type": "markdown",
   "id": "1d2707",
   "metadata": {
    "collapsed": false
   },
   "source": [
    "<span style='font-size:x-large'>**For loops** </span>\n"
   ]
  },
  {
   "cell_type": "code",
   "execution_count": 40,
   "id": "a0f1f0",
   "metadata": {
    "collapsed": false
   },
   "outputs": [
    {
     "name": "stdout",
     "output_type": "stream",
     "text": [
      "Julia\n",
      "Python\n",
      "Java\n"
     ]
    }
   ],
   "source": [
    "languages = [\"Julia\", \"Python\", \"Java\"]\n",
    "\n",
    "for lang = languages\n",
    "   println(lang)\n",
    "\n",
    "end"
   ]
  },
  {
   "cell_type": "code",
   "execution_count": 42,
   "id": "80e065",
   "metadata": {
    "collapsed": false
   },
   "outputs": [
    {
     "name": "stdout",
     "output_type": "stream",
     "text": [
      "Mango\n",
      "Orange\n",
      "Apple\n"
     ]
    }
   ],
   "source": [
    "fruits = [\"Mango\", \"Orange\", \"Apple\"]\n",
    "for  fruit = fruits\n",
    "    println(fruit)\n",
    "    \n",
    "end"
   ]
  }
 ],
 "metadata": {
  "kernelspec": {
   "argv": [
    "/ext/julia/julia-1.8/bin/julia",
    "-i",
    "--startup-file=yes",
    "--color=yes",
    "/ext/julia/depot/packages/IJulia/6TIq1/src/kernel.jl",
    "{connection_file}"
   ],
   "display_name": "Julia 1.8",
   "env": {
    "JULIA_DEPOT_PATH": "/home/user/.julia/:/ext/julia/depot/",
    "JULIA_PROJECT": "/home/user/.julia/environment/v1.8"
   },
   "language": "julia",
   "metadata": {
    "cocalc": {
     "description": "The Julia Programming Language",
     "priority": 1,
     "url": "https://julialang.org/"
    }
   },
   "name": "julia-1.8",
   "resource_dir": "/ext/jupyter/kernels/julia-1.8"
  },
  "language_info": {
   "file_extension": ".jl",
   "mimetype": "application/julia",
   "name": "julia",
   "version": "1.8.4"
  }
 },
 "nbformat": 4,
 "nbformat_minor": 4
}